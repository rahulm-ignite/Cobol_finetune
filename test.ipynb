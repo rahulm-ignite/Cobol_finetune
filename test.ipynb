{
 "cells": [
  {
   "cell_type": "code",
   "execution_count": 5,
   "metadata": {},
   "outputs": [],
   "source": [
    "import pandas as pd\n",
    "import numpy as np\n",
    "\n",
    "\n",
    "import os\n",
    "import glob\n",
    "import json\n",
    "\n",
    "def read_cobol_files(directory):\n",
    "    # Create a pattern to match all COBOL files, assuming .cbl as the file extension\n",
    "    pattern = os.path.join(directory, '*.cob')\n",
    "    \n",
    "    # Find all files in the directory matching the pattern\n",
    "    cobol_files = glob.glob(pattern)\n",
    "    \n",
    "    # List to store messages in the required JSON format\n",
    "    final_json = []\n",
    "    \n",
    "    for i in range(2):\n",
    "        messages = []\n",
    "        # Read the content of the file\n",
    "        # with open(file_path, 'r', encoding='utf-8') as file:\n",
    "        #     content = file.read()\n",
    "        \n",
    "        # length = int(round(.7*len(content),0))\n",
    "        # # Append to messages as specified in the JSON structure\n",
    "        messages.append({\n",
    "            \"role\": \"system\",\n",
    "            \"content\": \"You are a COBOL code generator. 70% of the code is given to you. You need to infer the logic and complete the rest 30%.\"\n",
    "        })\n",
    "        messages.append({\n",
    "            \"role\": \"user\",\n",
    "            \"content\": i  # Insert 70% of fetched code here\n",
    "        })\n",
    "        messages.append({\n",
    "            \"role\": \"assistant\",\n",
    "            \"content\": i  # Assuming 100% completion here for simplicity\n",
    "        })\n",
    "    \n",
    "    # Convert the list of messages to a JSON object\n",
    "        result_json ={}\n",
    "        result_json = json.dumps({\"messages\": messages})\n",
    "        final_json.append(result_json)\n",
    "    return final_json\n",
    "\n",
    "# Usage: Replace 'path_to_directory' with the actual path to the directory containing COBOL files\n",
    "directory_path = '/Users/rahulmahajan/Desktop/IgniteTech/5_Projects/2_Cobol/Cobol_finetune/X-COBOL/COBOL_Files/Apress_cobol-VB-on-.net'\n",
    "formatted_json = read_cobol_files(directory_path)\n",
    "# Write the list of messages to a JSON file\n",
    "output_file = 'output_messages.txt'\n",
    "with open(output_file, 'a', encoding='utf-8') as f:\n",
    "    for j in formatted_json:\n",
    "        f.write(str(j))\n",
    "        f.write(\"\\n\")\n"
   ]
  },
  {
   "cell_type": "code",
   "execution_count": null,
   "metadata": {},
   "outputs": [],
   "source": []
  }
 ],
 "metadata": {
  "kernelspec": {
   "display_name": "Python 3",
   "language": "python",
   "name": "python3"
  },
  "language_info": {
   "codemirror_mode": {
    "name": "ipython",
    "version": 3
   },
   "file_extension": ".py",
   "mimetype": "text/x-python",
   "name": "python",
   "nbconvert_exporter": "python",
   "pygments_lexer": "ipython3",
   "version": "3.11.3"
  }
 },
 "nbformat": 4,
 "nbformat_minor": 2
}
