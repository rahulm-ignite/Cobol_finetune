{
 "cells": [
  {
   "cell_type": "code",
   "execution_count": 6,
   "metadata": {},
   "outputs": [
    {
     "ename": "TypeError",
     "evalue": "join() argument must be str, bytes, or os.PathLike object, not 'list'",
     "output_type": "error",
     "traceback": [
      "\u001b[0;31m---------------------------------------------------------------------------\u001b[0m",
      "\u001b[0;31mTypeError\u001b[0m                                 Traceback (most recent call last)",
      "Cell \u001b[0;32mIn[6], line 48\u001b[0m\n\u001b[1;32m     46\u001b[0m \u001b[38;5;66;03m# Usage: Replace 'path_to_directory' with the actual path to the directory containing COBOL files\u001b[39;00m\n\u001b[1;32m     47\u001b[0m directory_path \u001b[38;5;241m=\u001b[39m \u001b[38;5;124m'\u001b[39m\u001b[38;5;124m/Users/rahulmahajan/Desktop/IgniteTech/5_Projects/2_Cobol/Cobol_finetune/X-COBOL/COBOL_Files/Apress_cobol-VB-on-.net\u001b[39m\u001b[38;5;124m'\u001b[39m\n\u001b[0;32m---> 48\u001b[0m formatted_json \u001b[38;5;241m=\u001b[39m \u001b[43mread_cobol_files\u001b[49m\u001b[43m(\u001b[49m\u001b[43mdirectory_path\u001b[49m\u001b[43m)\u001b[49m\n\u001b[1;32m     49\u001b[0m \u001b[38;5;66;03m# Write the list of messages to a JSON file\u001b[39;00m\n\u001b[1;32m     50\u001b[0m output_file \u001b[38;5;241m=\u001b[39m \u001b[38;5;124m'\u001b[39m\u001b[38;5;124moutput_messages.txt\u001b[39m\u001b[38;5;124m'\u001b[39m\n",
      "Cell \u001b[0;32mIn[6], line 11\u001b[0m, in \u001b[0;36mread_cobol_files\u001b[0;34m(directory)\u001b[0m\n\u001b[1;32m      9\u001b[0m \u001b[38;5;28;01mdef\u001b[39;00m \u001b[38;5;21mread_cobol_files\u001b[39m(directory):\n\u001b[1;32m     10\u001b[0m     \u001b[38;5;66;03m# Create a pattern to match all COBOL files, assuming .cbl as the file extension\u001b[39;00m\n\u001b[0;32m---> 11\u001b[0m     pattern \u001b[38;5;241m=\u001b[39m \u001b[43mos\u001b[49m\u001b[38;5;241;43m.\u001b[39;49m\u001b[43mpath\u001b[49m\u001b[38;5;241;43m.\u001b[39;49m\u001b[43mjoin\u001b[49m\u001b[43m(\u001b[49m\u001b[43mdirectory\u001b[49m\u001b[43m,\u001b[49m\u001b[43m \u001b[49m\u001b[43m[\u001b[49m\u001b[38;5;124;43m'\u001b[39;49m\u001b[38;5;124;43m*.cob\u001b[39;49m\u001b[38;5;124;43m'\u001b[39;49m\u001b[43m,\u001b[49m\u001b[38;5;124;43m'\u001b[39;49m\u001b[38;5;124;43m*.cbl\u001b[39;49m\u001b[38;5;124;43m'\u001b[39;49m\u001b[43m,\u001b[49m\u001b[38;5;124;43m'\u001b[39;49m\u001b[38;5;124;43m*.cobol\u001b[39;49m\u001b[38;5;124;43m'\u001b[39;49m\u001b[43m]\u001b[49m\u001b[43m)\u001b[49m\n\u001b[1;32m     13\u001b[0m     \u001b[38;5;66;03m# Find all files in the directory matching the pattern\u001b[39;00m\n\u001b[1;32m     14\u001b[0m     cobol_files \u001b[38;5;241m=\u001b[39m glob\u001b[38;5;241m.\u001b[39mglob(pattern)\n",
      "File \u001b[0;32m<frozen posixpath>:90\u001b[0m, in \u001b[0;36mjoin\u001b[0;34m(a, *p)\u001b[0m\n",
      "File \u001b[0;32m<frozen genericpath>:152\u001b[0m, in \u001b[0;36m_check_arg_types\u001b[0;34m(funcname, *args)\u001b[0m\n",
      "\u001b[0;31mTypeError\u001b[0m: join() argument must be str, bytes, or os.PathLike object, not 'list'"
     ]
    }
   ],
   "source": [
    "import pandas as pd\n",
    "import numpy as np\n",
    "\n",
    "\n",
    "import os\n",
    "import glob\n",
    "import json\n",
    "\n",
    "def read_cobol_files(directory):\n",
    "    # Create a pattern to match all COBOL files, assuming .cbl as the file extension\n",
    "    pattern = os.path.join(directory, ['*.cob','*.cbl','*.cobol'])\n",
    "    \n",
    "    # Find all files in the directory matching the pattern\n",
    "    cobol_files = glob.glob(pattern)\n",
    "    \n",
    "    # List to store messages in the required JSON format\n",
    "    final_json = []\n",
    "    \n",
    "    for i in range(2):\n",
    "        messages = []\n",
    "        # Read the content of the file\n",
    "        # with open(file_path, 'r', encoding='utf-8') as file:\n",
    "        #     content = file.read()\n",
    "        \n",
    "        # length = int(round(.7*len(content),0))\n",
    "        # # Append to messages as specified in the JSON structure\n",
    "        messages.append({\n",
    "            \"role\": \"system\",\n",
    "            \"content\": \"You are a COBOL code generator. 70% of the code is given to you. You need to infer the logic and complete the rest 30%.\"\n",
    "        })\n",
    "        messages.append({\n",
    "            \"role\": \"user\",\n",
    "            \"content\": i  # Insert 70% of fetched code here\n",
    "        })\n",
    "        messages.append({\n",
    "            \"role\": \"assistant\",\n",
    "            \"content\": i  # Assuming 100% completion here for simplicity\n",
    "        })\n",
    "    \n",
    "    # Convert the list of messages to a JSON object\n",
    "        result_json ={}\n",
    "        result_json = json.dumps({\"messages\": messages})\n",
    "        final_json.append(result_json)\n",
    "    return final_json\n",
    "\n",
    "# Usage: Replace 'path_to_directory' with the actual path to the directory containing COBOL files\n",
    "directory_path = '/Users/rahulmahajan/Desktop/IgniteTech/5_Projects/2_Cobol/Cobol_finetune/X-COBOL/COBOL_Files/Apress_cobol-VB-on-.net'\n",
    "formatted_json = read_cobol_files(directory_path)\n",
    "# Write the list of messages to a JSON file\n",
    "output_file = 'output_messages.txt'\n",
    "with open(output_file, 'w', encoding='utf-8') as f:\n",
    "    for j in formatted_json:\n",
    "        f.write(str(j))\n",
    "        f.write(\"\\n\")\n"
   ]
  },
  {
   "cell_type": "code",
   "execution_count": null,
   "metadata": {},
   "outputs": [],
   "source": []
  }
 ],
 "metadata": {
  "kernelspec": {
   "display_name": "Python 3",
   "language": "python",
   "name": "python3"
  },
  "language_info": {
   "codemirror_mode": {
    "name": "ipython",
    "version": 3
   },
   "file_extension": ".py",
   "mimetype": "text/x-python",
   "name": "python",
   "nbconvert_exporter": "python",
   "pygments_lexer": "ipython3",
   "version": "3.11.3"
  }
 },
 "nbformat": 4,
 "nbformat_minor": 2
}
